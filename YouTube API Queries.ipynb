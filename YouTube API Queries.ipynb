{
 "cells": [
  {
   "cell_type": "code",
   "execution_count": 1,
   "id": "dbc67255",
   "metadata": {},
   "outputs": [
    {
     "data": {
      "text/plain": [
       "True"
      ]
     },
     "execution_count": 1,
     "metadata": {},
     "output_type": "execute_result"
    }
   ],
   "source": [
    "import os\n",
    "import pandas as pd\n",
    "import seaborn as sns\n",
    "import requests\n",
    "from googleapiclient.discovery import build\n",
    "\n",
    "from dotenv import load_dotenv\n",
    "load_dotenv()"
   ]
  },
  {
   "cell_type": "markdown",
   "id": "27848c59",
   "metadata": {},
   "source": [
    "Find channel IDs and set them into a list"
   ]
  },
  {
   "cell_type": "code",
   "execution_count": 2,
   "id": "4bbc830e",
   "metadata": {},
   "outputs": [],
   "source": [
    "#Just a bit of setup for the project\n",
    "api_key = os.environ.get('YOUTUBE_INSIGHTS_API_KEY')\n",
    "\n",
    "channel_ids = ['UCAiLfjNXkNv24uhpzUgPa6A', #MrBeast Philanthropy\n",
    "               'UCUaT_39o1x6qWjz7K2pWcgw', #Beast Reacts\n",
    "               'UCgoFStVyEsm8tBZP5NC-aBQ', #MrBeast\n",
    "               'UC4-79UOlP48-QNGgCko5p2g', #MrBeast 2\n",
    "               'UCIPPMRA040LQr5QPyJEbmXA'  #MrBeast Gaming\n",
    "               ]\n",
    "         \n",
    "\n",
    "channel_id = 'UCgoFStVyEsm8tBZP5NC-aBQ'\n",
    "youtube = build('youtube', 'v3', developerKey=api_key)"
   ]
  },
  {
   "cell_type": "code",
   "execution_count": 3,
   "id": "25fd9547",
   "metadata": {},
   "outputs": [],
   "source": [
    "# #MrBeast custom URL was returning values that weren't consistent with statistics on the channel page\n",
    "# #Here I am attempting to extract the channel ID\n",
    "\n",
    "# url = \"https://www.googleapis.com/youtube/v3/channels\"\n",
    "# params = {\n",
    "#     'part': 'snippet',\n",
    "#     'forUsername': 'MrBeast',\n",
    "#     'key': api_key\n",
    "# }\n",
    "\n",
    "# response = requests.get(url, params=params)\n"
   ]
  },
  {
   "cell_type": "code",
   "execution_count": 4,
   "id": "539991d9",
   "metadata": {},
   "outputs": [],
   "source": [
    "\n",
    "# Check the response status code to see if the request was successful\n",
    "# if response.status_code == 200:\n",
    "#     # If the request was successful, check if the 'items' key is in the response\n",
    "#     if 'items' in response.json():\n",
    "#         channel_id = response.json()['items'][0]['id']\n",
    "#         print(channel_id)\n",
    "#     else:\n",
    "#         # If the 'items' key is not in the response, the channel may not have been found\n",
    "#         print(\"The channel was not found.\")\n",
    "# else:\n",
    "#     # If the request was unsuccessful, you may need to check the API key or URL\n",
    "#     print(\"An error occurred while trying to retrieve the channel ID.\")\n",
    " \n",
    "##Channel ID still yielded values inconsistent with the channel page. I'll just have to work with what I've got for now"
   ]
  },
  {
   "cell_type": "markdown",
   "id": "dc65e6b1",
   "metadata": {},
   "source": [
    "## Get Channel Statistics"
   ]
  },
  {
   "cell_type": "code",
   "execution_count": 5,
   "id": "c98ac04d",
   "metadata": {},
   "outputs": [],
   "source": [
    "def get_channel_stats(youtube, channel_ids):\n",
    "    all_data = []\n",
    "    request = youtube.channels().list(\n",
    "        part = 'snippet, contentDetails, Statistics',\n",
    "        id=','.join(channel_ids))\n",
    "    response=request.execute()\n",
    "\n",
    "    for i in range(len(response['items'])):\n",
    "        data = dict(Channel_Name = response['items'][i]['snippet']['title'],\n",
    "                Subscribers = response['items'][i]['statistics']['subscriberCount'],\n",
    "                Views = response['items'][i]['statistics']['viewCount'],\n",
    "                Total_videos = response['items'][i]['statistics']['videoCount'],\n",
    "                playlist_id = response['items'][i]['contentDetails']['relatedPlaylists']['uploads'])\n",
    "        \n",
    "        all_data.append(data)\n",
    "    \n",
    "    return all_data"
   ]
  },
  {
   "cell_type": "code",
   "execution_count": 6,
   "id": "ece30ea5",
   "metadata": {},
   "outputs": [
    {
     "data": {
      "text/plain": [
       "[{'Channel_Name': 'MrBeast 2',\n",
       "  'Subscribers': '18900000',\n",
       "  'Views': '2833245998',\n",
       "  'Total_videos': '108',\n",
       "  'playlist_id': 'UU4-79UOlP48-QNGgCko5p2g'},\n",
       " {'Channel_Name': 'Beast Philanthropy',\n",
       "  'Subscribers': '11700000',\n",
       "  'Views': '177874480',\n",
       "  'Total_videos': '20',\n",
       "  'playlist_id': 'UUAiLfjNXkNv24uhpzUgPa6A'},\n",
       " {'Channel_Name': 'MrBeast Gaming',\n",
       "  'Subscribers': '31100000',\n",
       "  'Views': '5469465100',\n",
       "  'Total_videos': '138',\n",
       "  'playlist_id': 'UUIPPMRA040LQr5QPyJEbmXA'},\n",
       " {'Channel_Name': 'MrBeast',\n",
       "  'Subscribers': '1630',\n",
       "  'Views': '67283',\n",
       "  'Total_videos': '3',\n",
       "  'playlist_id': 'UUgoFStVyEsm8tBZP5NC-aBQ'},\n",
       " {'Channel_Name': 'Beast Reacts',\n",
       "  'Subscribers': '21600000',\n",
       "  'Views': '3287603708',\n",
       "  'Total_videos': '232',\n",
       "  'playlist_id': 'UUUaT_39o1x6qWjz7K2pWcgw'}]"
      ]
     },
     "execution_count": 6,
     "metadata": {},
     "output_type": "execute_result"
    }
   ],
   "source": [
    "channel_statistics = get_channel_stats(youtube, channel_ids)\n",
    "channel_statistics"
   ]
  },
  {
   "cell_type": "code",
   "execution_count": 7,
   "id": "e0a82057",
   "metadata": {},
   "outputs": [
    {
     "data": {
      "text/html": [
       "<div>\n",
       "<style scoped>\n",
       "    .dataframe tbody tr th:only-of-type {\n",
       "        vertical-align: middle;\n",
       "    }\n",
       "\n",
       "    .dataframe tbody tr th {\n",
       "        vertical-align: top;\n",
       "    }\n",
       "\n",
       "    .dataframe thead th {\n",
       "        text-align: right;\n",
       "    }\n",
       "</style>\n",
       "<table border=\"1\" class=\"dataframe\">\n",
       "  <thead>\n",
       "    <tr style=\"text-align: right;\">\n",
       "      <th></th>\n",
       "      <th>Channel_Name</th>\n",
       "      <th>Subscribers</th>\n",
       "      <th>Views</th>\n",
       "      <th>Total_videos</th>\n",
       "      <th>playlist_id</th>\n",
       "    </tr>\n",
       "  </thead>\n",
       "  <tbody>\n",
       "    <tr>\n",
       "      <th>0</th>\n",
       "      <td>MrBeast 2</td>\n",
       "      <td>18900000</td>\n",
       "      <td>2833245998</td>\n",
       "      <td>108</td>\n",
       "      <td>UU4-79UOlP48-QNGgCko5p2g</td>\n",
       "    </tr>\n",
       "    <tr>\n",
       "      <th>1</th>\n",
       "      <td>Beast Philanthropy</td>\n",
       "      <td>11700000</td>\n",
       "      <td>177874480</td>\n",
       "      <td>20</td>\n",
       "      <td>UUAiLfjNXkNv24uhpzUgPa6A</td>\n",
       "    </tr>\n",
       "    <tr>\n",
       "      <th>2</th>\n",
       "      <td>MrBeast Gaming</td>\n",
       "      <td>31100000</td>\n",
       "      <td>5469465100</td>\n",
       "      <td>138</td>\n",
       "      <td>UUIPPMRA040LQr5QPyJEbmXA</td>\n",
       "    </tr>\n",
       "    <tr>\n",
       "      <th>3</th>\n",
       "      <td>MrBeast</td>\n",
       "      <td>1630</td>\n",
       "      <td>67283</td>\n",
       "      <td>3</td>\n",
       "      <td>UUgoFStVyEsm8tBZP5NC-aBQ</td>\n",
       "    </tr>\n",
       "    <tr>\n",
       "      <th>4</th>\n",
       "      <td>Beast Reacts</td>\n",
       "      <td>21600000</td>\n",
       "      <td>3287603708</td>\n",
       "      <td>232</td>\n",
       "      <td>UUUaT_39o1x6qWjz7K2pWcgw</td>\n",
       "    </tr>\n",
       "  </tbody>\n",
       "</table>\n",
       "</div>"
      ],
      "text/plain": [
       "         Channel_Name Subscribers       Views Total_videos  \\\n",
       "0           MrBeast 2    18900000  2833245998          108   \n",
       "1  Beast Philanthropy    11700000   177874480           20   \n",
       "2      MrBeast Gaming    31100000  5469465100          138   \n",
       "3             MrBeast        1630       67283            3   \n",
       "4        Beast Reacts    21600000  3287603708          232   \n",
       "\n",
       "                playlist_id  \n",
       "0  UU4-79UOlP48-QNGgCko5p2g  \n",
       "1  UUAiLfjNXkNv24uhpzUgPa6A  \n",
       "2  UUIPPMRA040LQr5QPyJEbmXA  \n",
       "3  UUgoFStVyEsm8tBZP5NC-aBQ  \n",
       "4  UUUaT_39o1x6qWjz7K2pWcgw  "
      ]
     },
     "execution_count": 7,
     "metadata": {},
     "output_type": "execute_result"
    }
   ],
   "source": [
    "channel_data = pd.DataFrame(channel_statistics)\n",
    "channel_data"
   ]
  },
  {
   "cell_type": "markdown",
   "id": "bd2806cb",
   "metadata": {},
   "source": [
    "Organize and Viualize Data"
   ]
  },
  {
   "cell_type": "code",
   "execution_count": 8,
   "id": "23bbe0a5",
   "metadata": {},
   "outputs": [],
   "source": [
    "channel_data['Channel_Name']= channel_data['Channel_Name'].astype(str)\n",
    "channel_data['Subscribers']= channel_data['Subscribers'].astype('int64')\n",
    "channel_data['Views']= channel_data['Views'].astype('int64')\n",
    "channel_data['Total_videos']= channel_data['Total_videos'].astype('int64')"
   ]
  },
  {
   "cell_type": "code",
   "execution_count": 9,
   "id": "851fa787",
   "metadata": {},
   "outputs": [
    {
     "data": {
      "text/plain": [
       "Channel_Name    object\n",
       "Subscribers      int64\n",
       "Views            int64\n",
       "Total_videos     int64\n",
       "playlist_id     object\n",
       "dtype: object"
      ]
     },
     "execution_count": 9,
     "metadata": {},
     "output_type": "execute_result"
    }
   ],
   "source": [
    "channel_data.sort_values(by='Subscribers', ascending=False, inplace=True)\n",
    "channel_data.dtypes"
   ]
  },
  {
   "cell_type": "code",
   "execution_count": 10,
   "id": "32dc5e44",
   "metadata": {},
   "outputs": [
    {
     "data": {
      "text/plain": [
       "Text(0, 0.5, 'Subscribers in Ten Millions')"
      ]
     },
     "execution_count": 10,
     "metadata": {},
     "output_type": "execute_result"
    },
    {
     "data": {
      "image/png": "[encoded data removed]",
      "text/plain": [
       "<Figure size 1000x800 with 1 Axes>"
      ]
     },
     "metadata": {},
     "output_type": "display_data"
    }
   ],
   "source": [
    "sns.set(rc={'figure.figsize':(10,8)})\n",
    "channel_data.sort_values(by='Subscribers', ascending=False, inplace=False)\n",
    "ax = sns.barplot(x='Channel_Name', y='Subscribers', data=channel_data)\n",
    "ax.set_ylabel(\"Subscribers in Ten Millions\")"
   ]
  },
  {
   "cell_type": "code",
   "execution_count": 11,
   "id": "1e44852d",
   "metadata": {},
   "outputs": [
    {
     "data": {
      "text/plain": [
       "Text(0, 0.5, 'Views in Billions')"
      ]
     },
     "execution_count": 11,
     "metadata": {},
     "output_type": "execute_result"
    },
    {
     "data": {
      "image/png": "[encoded data removed]",
      "text/plain": [
       "<Figure size 1000x800 with 1 Axes>"
      ]
     },
     "metadata": {},
     "output_type": "display_data"
    }
   ],
   "source": [
    "ax = sns.barplot(x='Channel_Name', y='Views', data=channel_data)\n",
    "ax.set_ylabel(\"Views in Billions\")"
   ]
  },
  {
   "cell_type": "code",
   "execution_count": 17,
   "id": "6e720dfb",
   "metadata": {},
   "outputs": [
    {
     "data": {
      "image/png": "[encoded data removed]",
      "text/plain": [
       "<Figure size 1000x800 with 1 Axes>"
      ]
     },
     "metadata": {},
     "output_type": "display_data"
    }
   ],
   "source": [
    "ax = sns.barplot(x='Channel_Name', y='Total_videos', data=channel_data)"
   ]
  },
  {
   "cell_type": "code",
   "execution_count": 18,
   "id": "435dd8b8",
   "metadata": {},
   "outputs": [
    {
     "data": {
      "text/html": [
       "<div>\n",
       "<style scoped>\n",
       "    .dataframe tbody tr th:only-of-type {\n",
       "        vertical-align: middle;\n",
       "    }\n",
       "\n",
       "    .dataframe tbody tr th {\n",
       "        vertical-align: top;\n",
       "    }\n",
       "\n",
       "    .dataframe thead th {\n",
       "        text-align: right;\n",
       "    }\n",
       "</style>\n",
       "<table border=\"1\" class=\"dataframe\">\n",
       "  <thead>\n",
       "    <tr style=\"text-align: right;\">\n",
       "      <th></th>\n",
       "      <th>Channel_Name</th>\n",
       "      <th>Subscribers</th>\n",
       "      <th>Views</th>\n",
       "      <th>Total_videos</th>\n",
       "      <th>playlist_id</th>\n",
       "    </tr>\n",
       "  </thead>\n",
       "  <tbody>\n",
       "    <tr>\n",
       "      <th>2</th>\n",
       "      <td>MrBeast Gaming</td>\n",
       "      <td>31100000</td>\n",
       "      <td>5469465100</td>\n",
       "      <td>138</td>\n",
       "      <td>UUIPPMRA040LQr5QPyJEbmXA</td>\n",
       "    </tr>\n",
       "    <tr>\n",
       "      <th>4</th>\n",
       "      <td>Beast Reacts</td>\n",
       "      <td>21600000</td>\n",
       "      <td>3287603708</td>\n",
       "      <td>232</td>\n",
       "      <td>UUUaT_39o1x6qWjz7K2pWcgw</td>\n",
       "    </tr>\n",
       "    <tr>\n",
       "      <th>0</th>\n",
       "      <td>MrBeast 2</td>\n",
       "      <td>18900000</td>\n",
       "      <td>2833245998</td>\n",
       "      <td>108</td>\n",
       "      <td>UU4-79UOlP48-QNGgCko5p2g</td>\n",
       "    </tr>\n",
       "    <tr>\n",
       "      <th>1</th>\n",
       "      <td>Beast Philanthropy</td>\n",
       "      <td>11700000</td>\n",
       "      <td>177874480</td>\n",
       "      <td>20</td>\n",
       "      <td>UUAiLfjNXkNv24uhpzUgPa6A</td>\n",
       "    </tr>\n",
       "    <tr>\n",
       "      <th>3</th>\n",
       "      <td>MrBeast</td>\n",
       "      <td>1630</td>\n",
       "      <td>67283</td>\n",
       "      <td>3</td>\n",
       "      <td>UUgoFStVyEsm8tBZP5NC-aBQ</td>\n",
       "    </tr>\n",
       "  </tbody>\n",
       "</table>\n",
       "</div>"
      ],
      "text/plain": [
       "         Channel_Name  Subscribers       Views  Total_videos  \\\n",
       "2      MrBeast Gaming     31100000  5469465100           138   \n",
       "4        Beast Reacts     21600000  3287603708           232   \n",
       "0           MrBeast 2     18900000  2833245998           108   \n",
       "1  Beast Philanthropy     11700000   177874480            20   \n",
       "3             MrBeast         1630       67283             3   \n",
       "\n",
       "                playlist_id  \n",
       "2  UUIPPMRA040LQr5QPyJEbmXA  \n",
       "4  UUUaT_39o1x6qWjz7K2pWcgw  \n",
       "0  UU4-79UOlP48-QNGgCko5p2g  \n",
       "1  UUAiLfjNXkNv24uhpzUgPa6A  \n",
       "3  UUgoFStVyEsm8tBZP5NC-aBQ  "
      ]
     },
     "execution_count": 18,
     "metadata": {},
     "output_type": "execute_result"
    }
   ],
   "source": [
    "channel_data"
   ]
  },
  {
   "cell_type": "code",
   "execution_count": null,
   "id": "e5d6de94",
   "metadata": {},
   "outputs": [],
   "source": []
  }
 ],
 "metadata": {
  "kernelspec": {
   "display_name": "Python 3 (ipykernel)",
   "language": "python",
   "name": "python3"
  },
  "language_info": {
   "codemirror_mode": {
    "name": "ipython",
    "version": 3
   },
   "file_extension": ".py",
   "mimetype": "text/x-python",
   "name": "python",
   "nbconvert_exporter": "python",
   "pygments_lexer": "ipython3",
   "version": "3.9.13"
  }
 },
 "nbformat": 4,
 "nbformat_minor": 5
}
