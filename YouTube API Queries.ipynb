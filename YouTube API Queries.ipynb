{
 "cells": [
  {
   "cell_type": "code",
   "execution_count": 1,
   "id": "dbc67255",
   "metadata": {},
   "outputs": [
    {
     "data": {
      "text/plain": [
       "True"
      ]
     },
     "execution_count": 1,
     "metadata": {},
     "output_type": "execute_result"
    }
   ],
   "source": [
    "import os\n",
    "import pandas as pd\n",
    "import seaborn as sns\n",
    "import requests\n",
    "from googleapiclient.discovery import build\n",
    "\n",
    "from dotenv import load_dotenv\n",
    "load_dotenv()"
   ]
  },
  {
   "cell_type": "markdown",
   "id": "5f255691",
   "metadata": {},
   "source": [
    "## Find Channel IDs and Put Them Into a List"
   ]
  },
  {
   "cell_type": "code",
   "execution_count": 2,
   "id": "4bbc830e",
   "metadata": {},
   "outputs": [],
   "source": [
    "#Just a bit of setup for the project\n",
    "api_key = os.environ.get('YOUTUBE_INSIGHTS_API_KEY')\n",
    "\n",
    "channel_ids = ['UCAiLfjNXkNv24uhpzUgPa6A', #MrBeast Philanthropy\n",
    "               'UCUaT_39o1x6qWjz7K2pWcgw', #Beast Reacts\n",
    "               'UCgoFStVyEsm8tBZP5NC-aBQ', #MrBeast\n",
    "               'UC4-79UOlP48-QNGgCko5p2g', #MrBeast 2\n",
    "               'UCIPPMRA040LQr5QPyJEbmXA'  #MrBeast Gaming\n",
    "               ]\n",
    "         \n",
    "\n",
    "channel_id = 'UCgoFStVyEsm8tBZP5NC-aBQ'\n",
    "youtube = build('youtube', 'v3', developerKey=api_key)"
   ]
  },
  {
   "cell_type": "code",
   "execution_count": 3,
   "id": "cf3f8b9b",
   "metadata": {},
   "outputs": [],
   "source": [
    "# #MrBeast custom URL was returning values that weren't consistent with statistics on the channel page\n",
    "# #Here I am attempting to extract the channel ID\n",
    "\n",
    "# url = \"https://www.googleapis.com/youtube/v3/channels\"\n",
    "# params = {\n",
    "#     'part': 'snippet',\n",
    "#     'forUsername': 'MrBeast',\n",
    "#     'key': api_key\n",
    "# }\n",
    "\n",
    "# response = requests.get(url, params=params)\n"
   ]
  },
  {
   "cell_type": "code",
   "execution_count": 4,
   "id": "596b1969",
   "metadata": {},
   "outputs": [],
   "source": [
    "\n",
    "# Check the response status code to see if the request was successful\n",
    "# if response.status_code == 200:\n",
    "#     # If the request was successful, check if the 'items' key is in the response\n",
    "#     if 'items' in response.json():\n",
    "#         channel_id = response.json()['items'][0]['id']\n",
    "#         print(channel_id)\n",
    "#     else:\n",
    "#         # If the 'items' key is not in the response, the channel may not have been found\n",
    "#         print(\"The channel was not found.\")\n",
    "# else:\n",
    "#     # If the request was unsuccessful, you may need to check the API key or URL\n",
    "#     print(\"An error occurred while trying to retrieve the channel ID.\")\n",
    " \n",
    "##Channel ID still yielded values inconsistent with the channel page. I'll just have to work with what I've got for now"
   ]
  },
  {
   "cell_type": "markdown",
   "id": "f465b095",
   "metadata": {},
   "source": [
    "## Get Channel Statistics"
   ]
  },
  {
   "cell_type": "code",
   "execution_count": 32,
   "id": "484587d8",
   "metadata": {},
   "outputs": [],
   "source": [
    "def get_channel_stats(youtube, channel_ids):\n",
    "    all_data = []\n",
    "    request = youtube.channels().list(\n",
    "        part = 'snippet, contentDetails, Statistics',\n",
    "        id=','.join(channel_ids))\n",
    "    response=request.execute()\n",
    "\n",
    "    for item in response['items']:\n",
    "        data = dict(Channel_Name = item['snippet']['title'],\n",
    "                Subscribers = item['statistics']['subscriberCount'],\n",
    "                Views = item['statistics']['viewCount'],\n",
    "                Total_videos = item['statistics']['videoCount'],\n",
    "                playlist_id = item['contentDetails']['relatedPlaylists']['uploads'])\n",
    "        \n",
    "        all_data.append(data)\n",
    "    \n",
    "    return all_data"
   ]
  },
  {
   "cell_type": "code",
   "execution_count": 33,
   "id": "3f03a3d2",
   "metadata": {},
   "outputs": [
    {
     "data": {
      "text/plain": [
       "[{'Channel_Name': 'MrBeast Gaming',\n",
       "  'Subscribers': '31100000',\n",
       "  'Views': '5471893383',\n",
       "  'Total_videos': '138',\n",
       "  'playlist_id': 'UUIPPMRA040LQr5QPyJEbmXA'},\n",
       " {'Channel_Name': 'Beast Philanthropy',\n",
       "  'Subscribers': '11700000',\n",
       "  'Views': '177874480',\n",
       "  'Total_videos': '20',\n",
       "  'playlist_id': 'UUAiLfjNXkNv24uhpzUgPa6A'},\n",
       " {'Channel_Name': 'MrBeast',\n",
       "  'Subscribers': '1630',\n",
       "  'Views': '67283',\n",
       "  'Total_videos': '3',\n",
       "  'playlist_id': 'UUgoFStVyEsm8tBZP5NC-aBQ'},\n",
       " {'Channel_Name': 'MrBeast 2',\n",
       "  'Subscribers': '18900000',\n",
       "  'Views': '2833245998',\n",
       "  'Total_videos': '108',\n",
       "  'playlist_id': 'UU4-79UOlP48-QNGgCko5p2g'},\n",
       " {'Channel_Name': 'Beast Reacts',\n",
       "  'Subscribers': '21600000',\n",
       "  'Views': '3287603708',\n",
       "  'Total_videos': '232',\n",
       "  'playlist_id': 'UUUaT_39o1x6qWjz7K2pWcgw'}]"
      ]
     },
     "execution_count": 33,
     "metadata": {},
     "output_type": "execute_result"
    }
   ],
   "source": [
    "channel_statistics = get_channel_stats(youtube, channel_ids)\n",
    "channel_statistics"
   ]
  },
  {
   "cell_type": "code",
   "execution_count": 7,
   "id": "5931d9d7",
   "metadata": {},
   "outputs": [
    {
     "data": {
      "text/html": [
       "<div>\n",
       "<style scoped>\n",
       "    .dataframe tbody tr th:only-of-type {\n",
       "        vertical-align: middle;\n",
       "    }\n",
       "\n",
       "    .dataframe tbody tr th {\n",
       "        vertical-align: top;\n",
       "    }\n",
       "\n",
       "    .dataframe thead th {\n",
       "        text-align: right;\n",
       "    }\n",
       "</style>\n",
       "<table border=\"1\" class=\"dataframe\">\n",
       "  <thead>\n",
       "    <tr style=\"text-align: right;\">\n",
       "      <th></th>\n",
       "      <th>Channel_Name</th>\n",
       "      <th>Subscribers</th>\n",
       "      <th>Views</th>\n",
       "      <th>Total_videos</th>\n",
       "      <th>playlist_id</th>\n",
       "    </tr>\n",
       "  </thead>\n",
       "  <tbody>\n",
       "    <tr>\n",
       "      <th>0</th>\n",
       "      <td>MrBeast</td>\n",
       "      <td>1630</td>\n",
       "      <td>67283</td>\n",
       "      <td>3</td>\n",
       "      <td>UUgoFStVyEsm8tBZP5NC-aBQ</td>\n",
       "    </tr>\n",
       "    <tr>\n",
       "      <th>1</th>\n",
       "      <td>Beast Reacts</td>\n",
       "      <td>21600000</td>\n",
       "      <td>3287603708</td>\n",
       "      <td>232</td>\n",
       "      <td>UUUaT_39o1x6qWjz7K2pWcgw</td>\n",
       "    </tr>\n",
       "    <tr>\n",
       "      <th>2</th>\n",
       "      <td>MrBeast Gaming</td>\n",
       "      <td>31100000</td>\n",
       "      <td>5471893383</td>\n",
       "      <td>138</td>\n",
       "      <td>UUIPPMRA040LQr5QPyJEbmXA</td>\n",
       "    </tr>\n",
       "    <tr>\n",
       "      <th>3</th>\n",
       "      <td>MrBeast 2</td>\n",
       "      <td>18900000</td>\n",
       "      <td>2833245998</td>\n",
       "      <td>108</td>\n",
       "      <td>UU4-79UOlP48-QNGgCko5p2g</td>\n",
       "    </tr>\n",
       "    <tr>\n",
       "      <th>4</th>\n",
       "      <td>Beast Philanthropy</td>\n",
       "      <td>11700000</td>\n",
       "      <td>177874480</td>\n",
       "      <td>20</td>\n",
       "      <td>UUAiLfjNXkNv24uhpzUgPa6A</td>\n",
       "    </tr>\n",
       "  </tbody>\n",
       "</table>\n",
       "</div>"
      ],
      "text/plain": [
       "         Channel_Name Subscribers       Views Total_videos  \\\n",
       "0             MrBeast        1630       67283            3   \n",
       "1        Beast Reacts    21600000  3287603708          232   \n",
       "2      MrBeast Gaming    31100000  5471893383          138   \n",
       "3           MrBeast 2    18900000  2833245998          108   \n",
       "4  Beast Philanthropy    11700000   177874480           20   \n",
       "\n",
       "                playlist_id  \n",
       "0  UUgoFStVyEsm8tBZP5NC-aBQ  \n",
       "1  UUUaT_39o1x6qWjz7K2pWcgw  \n",
       "2  UUIPPMRA040LQr5QPyJEbmXA  \n",
       "3  UU4-79UOlP48-QNGgCko5p2g  \n",
       "4  UUAiLfjNXkNv24uhpzUgPa6A  "
      ]
     },
     "execution_count": 7,
     "metadata": {},
     "output_type": "execute_result"
    }
   ],
   "source": [
    "channel_data = pd.DataFrame(channel_statistics)\n",
    "channel_data"
   ]
  },
  {
   "cell_type": "markdown",
   "id": "9bd552e4",
   "metadata": {},
   "source": [
    "## Quick Visual Check of Channel Stats"
   ]
  },
  {
   "cell_type": "code",
   "execution_count": 8,
   "id": "de1a1fa8",
   "metadata": {},
   "outputs": [],
   "source": [
    "channel_data['Channel_Name']= channel_data['Channel_Name'].astype(str)\n",
    "channel_data['Subscribers']= channel_data['Subscribers'].astype('int64')\n",
    "channel_data['Views']= channel_data['Views'].astype('int64')\n",
    "channel_data['Total_videos']= channel_data['Total_videos'].astype('int64')"
   ]
  },
  {
   "cell_type": "code",
   "execution_count": 9,
   "id": "635da866",
   "metadata": {},
   "outputs": [
    {
     "data": {
      "text/plain": [
       "Channel_Name    object\n",
       "Subscribers      int64\n",
       "Views            int64\n",
       "Total_videos     int64\n",
       "playlist_id     object\n",
       "dtype: object"
      ]
     },
     "execution_count": 9,
     "metadata": {},
     "output_type": "execute_result"
    }
   ],
   "source": [
    "channel_data.sort_values(by='Subscribers', ascending=False, inplace=True)\n",
    "channel_data.dtypes"
   ]
  },
  {
   "cell_type": "code",
   "execution_count": 10,
   "id": "50ac4ae8",
   "metadata": {},
   "outputs": [
    {
     "data": {
      "text/plain": [
       "Text(0, 0.5, 'Subscribers in Ten Millions')"
      ]
     },
     "execution_count": 10,
     "metadata": {},
     "output_type": "execute_result"
    },
    {
     "data": {
      "image/png": "[encoded data removed]",
      "text/plain": [
       "<Figure size 1000x800 with 1 Axes>"
      ]
     },
     "metadata": {},
     "output_type": "display_data"
    }
   ],
   "source": [
    "sns.set(rc={'figure.figsize':(10,8)})\n",
    "channel_data.sort_values(by='Subscribers', ascending=False, inplace=False)\n",
    "ax = sns.barplot(x='Channel_Name', y='Subscribers', data=channel_data)\n",
    "ax.set_ylabel(\"Subscribers in Ten Millions\")"
   ]
  },
  {
   "cell_type": "code",
   "execution_count": 11,
   "id": "9c84d832",
   "metadata": {},
   "outputs": [
    {
     "data": {
      "text/plain": [
       "Text(0, 0.5, 'Views in Billions')"
      ]
     },
     "execution_count": 11,
     "metadata": {},
     "output_type": "execute_result"
    },
    {
     "data": {
      "image/png": "[encoded data removed]",
      "text/plain": [
       "<Figure size 1000x800 with 1 Axes>"
      ]
     },
     "metadata": {},
     "output_type": "display_data"
    }
   ],
   "source": [
    "ax = sns.barplot(x='Channel_Name', y='Views', data=channel_data)\n",
    "ax.set_ylabel(\"Views in Billions\")"
   ]
  },
  {
   "cell_type": "code",
   "execution_count": 12,
   "id": "a8b971a4",
   "metadata": {},
   "outputs": [
    {
     "data": {
      "image/png": "[encoded data removed]",
      "text/plain": [
       "<Figure size 1000x800 with 1 Axes>"
      ]
     },
     "metadata": {},
     "output_type": "display_data"
    }
   ],
   "source": [
    "ax = sns.barplot(x='Channel_Name', y='Total_videos', data=channel_data)"
   ]
  },
  {
   "cell_type": "code",
   "execution_count": 13,
   "id": "e49a53c3",
   "metadata": {},
   "outputs": [
    {
     "data": {
      "text/html": [
       "<div>\n",
       "<style scoped>\n",
       "    .dataframe tbody tr th:only-of-type {\n",
       "        vertical-align: middle;\n",
       "    }\n",
       "\n",
       "    .dataframe tbody tr th {\n",
       "        vertical-align: top;\n",
       "    }\n",
       "\n",
       "    .dataframe thead th {\n",
       "        text-align: right;\n",
       "    }\n",
       "</style>\n",
       "<table border=\"1\" class=\"dataframe\">\n",
       "  <thead>\n",
       "    <tr style=\"text-align: right;\">\n",
       "      <th></th>\n",
       "      <th>Channel_Name</th>\n",
       "      <th>Subscribers</th>\n",
       "      <th>Views</th>\n",
       "      <th>Total_videos</th>\n",
       "      <th>playlist_id</th>\n",
       "    </tr>\n",
       "  </thead>\n",
       "  <tbody>\n",
       "    <tr>\n",
       "      <th>2</th>\n",
       "      <td>MrBeast Gaming</td>\n",
       "      <td>31100000</td>\n",
       "      <td>5471893383</td>\n",
       "      <td>138</td>\n",
       "      <td>UUIPPMRA040LQr5QPyJEbmXA</td>\n",
       "    </tr>\n",
       "    <tr>\n",
       "      <th>1</th>\n",
       "      <td>Beast Reacts</td>\n",
       "      <td>21600000</td>\n",
       "      <td>3287603708</td>\n",
       "      <td>232</td>\n",
       "      <td>UUUaT_39o1x6qWjz7K2pWcgw</td>\n",
       "    </tr>\n",
       "    <tr>\n",
       "      <th>3</th>\n",
       "      <td>MrBeast 2</td>\n",
       "      <td>18900000</td>\n",
       "      <td>2833245998</td>\n",
       "      <td>108</td>\n",
       "      <td>UU4-79UOlP48-QNGgCko5p2g</td>\n",
       "    </tr>\n",
       "    <tr>\n",
       "      <th>4</th>\n",
       "      <td>Beast Philanthropy</td>\n",
       "      <td>11700000</td>\n",
       "      <td>177874480</td>\n",
       "      <td>20</td>\n",
       "      <td>UUAiLfjNXkNv24uhpzUgPa6A</td>\n",
       "    </tr>\n",
       "    <tr>\n",
       "      <th>0</th>\n",
       "      <td>MrBeast</td>\n",
       "      <td>1630</td>\n",
       "      <td>67283</td>\n",
       "      <td>3</td>\n",
       "      <td>UUgoFStVyEsm8tBZP5NC-aBQ</td>\n",
       "    </tr>\n",
       "  </tbody>\n",
       "</table>\n",
       "</div>"
      ],
      "text/plain": [
       "         Channel_Name  Subscribers       Views  Total_videos  \\\n",
       "2      MrBeast Gaming     31100000  5471893383           138   \n",
       "1        Beast Reacts     21600000  3287603708           232   \n",
       "3           MrBeast 2     18900000  2833245998           108   \n",
       "4  Beast Philanthropy     11700000   177874480            20   \n",
       "0             MrBeast         1630       67283             3   \n",
       "\n",
       "                playlist_id  \n",
       "2  UUIPPMRA040LQr5QPyJEbmXA  \n",
       "1  UUUaT_39o1x6qWjz7K2pWcgw  \n",
       "3  UU4-79UOlP48-QNGgCko5p2g  \n",
       "4  UUAiLfjNXkNv24uhpzUgPa6A  \n",
       "0  UUgoFStVyEsm8tBZP5NC-aBQ  "
      ]
     },
     "execution_count": 13,
     "metadata": {},
     "output_type": "execute_result"
    }
   ],
   "source": [
    "channel_data"
   ]
  },
  {
   "cell_type": "markdown",
   "id": "4c17affc",
   "metadata": {},
   "source": [
    "## Finding Video IDs"
   ]
  },
  {
   "cell_type": "code",
   "execution_count": 15,
   "id": "740c93fe",
   "metadata": {},
   "outputs": [],
   "source": [
    "playlist_id = channel_data.loc[channel_data['Channel_Name'] == 'MrBeast Gaming', 'playlist_id'].iloc[0]"
   ]
  },
  {
   "cell_type": "code",
   "execution_count": 17,
   "id": "cb64c473",
   "metadata": {},
   "outputs": [
    {
     "data": {
      "text/plain": [
       "'UUIPPMRA040LQr5QPyJEbmXA'"
      ]
     },
     "execution_count": 17,
     "metadata": {},
     "output_type": "execute_result"
    }
   ],
   "source": [
    "playlist_id"
   ]
  },
  {
   "cell_type": "code",
   "execution_count": 20,
   "id": "aab61a16",
   "metadata": {},
   "outputs": [],
   "source": [
    "def get_video_ids(youtube, playlist_id):\n",
    "    video_ids = []\n",
    "    next_page_token = None\n",
    "    \n",
    "    while True:\n",
    "        request = youtube.playlistItems().list(\n",
    "            part = 'contentDetails',\n",
    "            playlistId = playlist_id,\n",
    "            maxResults = 50,\n",
    "            pageToken = next_page_token)\n",
    "        \n",
    "        response = request.execute()\n",
    "        \n",
    "        for item in response['items']:\n",
    "            video_ids.append(item['contentDetails']['videoId'])\n",
    "        \n",
    "        if 'nextPageToken' not in response:\n",
    "            break\n",
    "        else:\n",
    "            next_page_token = response['nextPageToken']\n",
    "    \n",
    "    return video_ids\n"
   ]
  },
  {
   "cell_type": "code",
   "execution_count": 25,
   "id": "b9ae343f",
   "metadata": {},
   "outputs": [
    {
     "data": {
      "text/plain": [
       "['RvYkeTmM1gc',\n",
       " 'WkZHyBc3Xnc',\n",
       " 'rncjTx-rRVc',\n",
       " '6T67I2w1G2U',\n",
       " 'nyPcE29NNBU',\n",
       " 'FKuLIrwIjt8',\n",
       " 'nopEs-K4ExM',\n",
       " 'qjoz-CAO3xQ',\n",
       " 'mkKteoXE-X0',\n",
       " 'JeTkMdw6RK8',\n",
       " 'QO7e_RiMVQg',\n",
       " '1lIi1txDVzo',\n",
       " 'IyEBRZsLZc8',\n",
       " 'VWNdhuV6mwA',\n",
       " 'rdsXcS4guLQ',\n",
       " 'L678M0y86dw',\n",
       " 'z2bcQBZyaY8',\n",
       " 'Y3Lo33k4X44',\n",
       " 's72dhTVYKtM',\n",
       " 't2AB05DypWk',\n",
       " 'APHXbkXHdy0',\n",
       " 'VQY_m3wCBCE',\n",
       " 'nJfVSMZzudk',\n",
       " 'IPtpwh7r0Eo',\n",
       " 'OF7SU-bm_IU',\n",
       " 'dmNUwPxAuow',\n",
       " 'jk6thMe6Vq8',\n",
       " '_euAXwajVis',\n",
       " 'dLDj2TTyMGM',\n",
       " 'hK6A_ebUKrM',\n",
       " 'WLFEKf34a5U',\n",
       " '0QRTAwJoXuk',\n",
       " 'HRdyfERwQZs',\n",
       " 'iSvsf27wRns',\n",
       " 'wnWbb3_U9Gc',\n",
       " 'wW8FnNghyvI',\n",
       " 'ABTdTTnnEU8',\n",
       " 'Xqamnbm-ZLA',\n",
       " 'FkVuYmRdI64',\n",
       " 'eLSc9ZZ1UJI',\n",
       " 'Z5TQBkJJlFE',\n",
       " '2O-9RmuiXog',\n",
       " 'ZHxAkxGBUhc',\n",
       " 'PwAMVSqP8_w',\n",
       " 'ork4qET7pV0',\n",
       " 'xwdhHTtc-3w',\n",
       " 'OMAZB31W9nE',\n",
       " 'SCrO3kS1upU',\n",
       " 'w6byBDiL5gQ',\n",
       " 'HrY_eDbF0XQ',\n",
       " 'xN8ENrfE-TY',\n",
       " 'c9C6t_nNouY',\n",
       " 'hC3pyCvjy9E',\n",
       " 'jl7whFSiE0Q',\n",
       " 'ZNVlIMHS1sk',\n",
       " 'gUeY3Crwpwo',\n",
       " 'YaIh2sg2W-c',\n",
       " 'qTolSU-2aXk',\n",
       " 'vrUOPr9v8g4',\n",
       " 'UcCJcV7S97c',\n",
       " 'TU99gX7NGZ8',\n",
       " 'WbIACyJPaH8',\n",
       " '2F0gwsOzj40',\n",
       " 'D1eZybtieJM',\n",
       " 'j8Cli3mEpJY',\n",
       " '0yNMQzUZm8k',\n",
       " '50BpCxexUa0',\n",
       " 'wc7K1sakzMs',\n",
       " '0OFwRdDeX4Y',\n",
       " 'FafXBaAEowM',\n",
       " 'HJpIBjFkNL4',\n",
       " '7HV3m0nK0MM',\n",
       " 'EpDW81KxMRY',\n",
       " 'oJenjx6oIeE',\n",
       " '-C_hRVM0_po',\n",
       " 'os8d6CqbiVs',\n",
       " 'p9a18OPYkG0',\n",
       " 'olYOijqE2og',\n",
       " 'L2GQmOYFCy4',\n",
       " 'EhHzJidkydo',\n",
       " 'gi-63nX4BoM',\n",
       " 'bZ12FX-m60w',\n",
       " 'GiIVyQLCRKg',\n",
       " 'FzM1cYbL0GU',\n",
       " 'HTri8y9Ia5E',\n",
       " 'wMjO0o6iNpI',\n",
       " 'R3t78CfkIhc',\n",
       " 'pMVahIsthtc',\n",
       " '0U4K-r1JCwM',\n",
       " 'QjSyAnjE6Yo',\n",
       " 'flgwsL1wAcE',\n",
       " 'MDfWMJsK6qA',\n",
       " '4xCRT_jTJg0',\n",
       " 'zVCs9Cug_qM',\n",
       " 'S54Xb0OtArE',\n",
       " '5hzU10CbWy8',\n",
       " '56bUgtG8Gzg',\n",
       " 'y4SQtg0G-2Y',\n",
       " 'k179PYAUn8g',\n",
       " 'VFNR-wFvOns',\n",
       " 'ELS5RLbSukU',\n",
       " 'DufkRlUzQD4',\n",
       " 'QsUfsZzxi9c',\n",
       " 'lghlkDA1gVY',\n",
       " 'toQbSRrMX9o',\n",
       " 'xJsMA_ED2KM',\n",
       " 'nZ1rTugGIkw',\n",
       " 'gDMf5g8EU5g',\n",
       " 'Zi2j4tSZiWM',\n",
       " '5zWeEJiZ45c',\n",
       " 'FzWZhgI600U',\n",
       " 'dw9DmYfACso',\n",
       " 'Db-rqtQw7Nw',\n",
       " 'cJp8thYqiOQ',\n",
       " '6gphsiQDjDY',\n",
       " 'Z9WUrOX9bKY',\n",
       " 'Cy_qoSWt260',\n",
       " 'wtt-uPS_VhU',\n",
       " '26rllizCA1Q',\n",
       " 'TtfjkcuomT8',\n",
       " 'c8kWStfQW6M',\n",
       " 'IYrCm21WLys',\n",
       " 'lIl6FKF9gEY',\n",
       " '2hEpY3KvtCM',\n",
       " 'MObDhVh2VGo',\n",
       " '_oQ-S_rRAh0',\n",
       " 'UcpYgnV6D-4',\n",
       " 'BKgISmtk5Wg',\n",
       " 'pKTx3sLcHLk',\n",
       " 'ZC5XjTEGytE',\n",
       " 'rzjP5-iNrq4',\n",
       " 'wnsis5vsNCU',\n",
       " 'NVLSgGqHz2o',\n",
       " '0qrXwRoyfgc',\n",
       " 'CSSsPVweLkc',\n",
       " 'AtZbo90EL_s',\n",
       " 'pV15pLyGApQ',\n",
       " '02vn11qIn_I']"
      ]
     },
     "execution_count": 25,
     "metadata": {},
     "output_type": "execute_result"
    }
   ],
   "source": [
    "# beast_gaming_ids = get_video_ids(youtube, playlist_id)\n",
    "beast_gaming_ids"
   ]
  },
  {
   "cell_type": "code",
   "execution_count": null,
   "id": "71fcbe08",
   "metadata": {},
   "outputs": [],
   "source": []
  }
 ],
 "metadata": {
  "kernelspec": {
   "display_name": "Python 3 (ipykernel)",
   "language": "python",
   "name": "python3"
  },
  "language_info": {
   "codemirror_mode": {
    "name": "ipython",
    "version": 3
   },
   "file_extension": ".py",
   "mimetype": "text/x-python",
   "name": "python",
   "nbconvert_exporter": "python",
   "pygments_lexer": "ipython3",
   "version": "3.9.13"
  }
 },
 "nbformat": 4,
 "nbformat_minor": 5
}
