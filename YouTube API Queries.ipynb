{
 "cells": [
  {
   "cell_type": "code",
   "execution_count": 1,
   "id": "dbc67255",
   "metadata": {},
   "outputs": [
    {
     "data": {
      "text/plain": [
       "True"
      ]
     },
     "execution_count": 1,
     "metadata": {},
     "output_type": "execute_result"
    }
   ],
   "source": [
    "import os\n",
    "import pandas as pd\n",
    "import seaborn as sns\n",
    "import requests\n",
    "from googleapiclient.discovery import build\n",
    "\n",
    "from dotenv import load_dotenv\n",
    "load_dotenv()"
   ]
  },
  {
   "cell_type": "markdown",
   "id": "a8a9c1e5",
   "metadata": {},
   "source": [
    "## Find Channel IDs and Put Them Into a List"
   ]
  },
  {
   "cell_type": "code",
   "execution_count": 2,
   "id": "4bbc830e",
   "metadata": {},
   "outputs": [],
   "source": [
    "#Just a bit of setup for the project\n",
    "api_key = os.environ.get('YOUTUBE_INSIGHTS_API_KEY')\n",
    "\n",
    "channel_ids = ['UCAiLfjNXkNv24uhpzUgPa6A', #MrBeast Philanthropy\n",
    "               'UCUaT_39o1x6qWjz7K2pWcgw', #Beast Reacts\n",
    "               'UCgoFStVyEsm8tBZP5NC-aBQ', #MrBeast\n",
    "               'UC4-79UOlP48-QNGgCko5p2g', #MrBeast 2\n",
    "               'UCIPPMRA040LQr5QPyJEbmXA'  #MrBeast Gaming\n",
    "               ]\n",
    "         \n",
    "\n",
    "channel_id = 'UCgoFStVyEsm8tBZP5NC-aBQ'\n",
    "youtube = build('youtube', 'v3', developerKey=api_key)"
   ]
  },
  {
   "cell_type": "code",
   "execution_count": 3,
   "id": "9c16a997",
   "metadata": {},
   "outputs": [],
   "source": [
    "# #MrBeast custom URL was returning values that weren't consistent with statistics on the channel page\n",
    "# #Here I am attempting to extract the channel ID\n",
    "\n",
    "# url = \"https://www.googleapis.com/youtube/v3/channels\"\n",
    "# params = {\n",
    "#     'part': 'snippet',\n",
    "#     'forUsername': 'MrBeast',\n",
    "#     'key': api_key\n",
    "# }\n",
    "\n",
    "# response = requests.get(url, params=params)\n"
   ]
  },
  {
   "cell_type": "code",
   "execution_count": 4,
   "id": "53319a88",
   "metadata": {},
   "outputs": [],
   "source": [
    "\n",
    "# Check the response status code to see if the request was successful\n",
    "# if response.status_code == 200:\n",
    "#     # If the request was successful, check if the 'items' key is in the response\n",
    "#     if 'items' in response.json():\n",
    "#         channel_id = response.json()['items'][0]['id']\n",
    "#         print(channel_id)\n",
    "#     else:\n",
    "#         # If the 'items' key is not in the response, the channel may not have been found\n",
    "#         print(\"The channel was not found.\")\n",
    "# else:\n",
    "#     # If the request was unsuccessful, you may need to check the API key or URL\n",
    "#     print(\"An error occurred while trying to retrieve the channel ID.\")\n",
    " \n",
    "##Channel ID still yielded values inconsistent with the channel page. I'll just have to work with what I've got for now"
   ]
  },
  {
   "cell_type": "markdown",
   "id": "e5333a3e",
   "metadata": {},
   "source": [
    "## Get Channel Statistics:"
   ]
  },
  {
   "cell_type": "code",
   "execution_count": 5,
   "id": "3d35b60e",
   "metadata": {},
   "outputs": [],
   "source": [
    "def get_channel_stats(youtube, channel_ids):\n",
    "    all_data = []\n",
    "    request = youtube.channels().list(\n",
    "        part = 'snippet, contentDetails, Statistics',\n",
    "        id=','.join(channel_ids))\n",
    "    response=request.execute()\n",
    "\n",
    "    for item in response['items']:\n",
    "        data = dict(Channel_Name = item['snippet']['title'],\n",
    "                Subscribers = item['statistics']['subscriberCount'],\n",
    "                Views = item['statistics']['viewCount'],\n",
    "                Total_videos = item['statistics']['videoCount'],\n",
    "                playlist_id = item['contentDetails']['relatedPlaylists']['uploads'])\n",
    "        \n",
    "        all_data.append(data)\n",
    "    \n",
    "    return all_data"
   ]
  },
  {
   "cell_type": "code",
   "execution_count": 6,
   "id": "26c16f2e",
   "metadata": {},
   "outputs": [
    {
     "data": {
      "text/plain": [
       "[{'Channel_Name': 'MrBeast',\n",
       "  'Subscribers': '1630',\n",
       "  'Views': '67304',\n",
       "  'Total_videos': '3',\n",
       "  'playlist_id': 'UUgoFStVyEsm8tBZP5NC-aBQ'},\n",
       " {'Channel_Name': 'Beast Reacts',\n",
       "  'Subscribers': '21600000',\n",
       "  'Views': '3291525450',\n",
       "  'Total_videos': '232',\n",
       "  'playlist_id': 'UUUaT_39o1x6qWjz7K2pWcgw'},\n",
       " {'Channel_Name': 'MrBeast 2',\n",
       "  'Subscribers': '18900000',\n",
       "  'Views': '2843129992',\n",
       "  'Total_videos': '108',\n",
       "  'playlist_id': 'UU4-79UOlP48-QNGgCko5p2g'},\n",
       " {'Channel_Name': 'MrBeast Gaming',\n",
       "  'Subscribers': '31100000',\n",
       "  'Views': '5474143393',\n",
       "  'Total_videos': '138',\n",
       "  'playlist_id': 'UUIPPMRA040LQr5QPyJEbmXA'},\n",
       " {'Channel_Name': 'Beast Philanthropy',\n",
       "  'Subscribers': '11700000',\n",
       "  'Views': '178056721',\n",
       "  'Total_videos': '20',\n",
       "  'playlist_id': 'UUAiLfjNXkNv24uhpzUgPa6A'}]"
      ]
     },
     "execution_count": 6,
     "metadata": {},
     "output_type": "execute_result"
    }
   ],
   "source": [
    "channel_statistics = get_channel_stats(youtube, channel_ids)\n",
    "# channel_statistics"
   ]
  },
  {
   "cell_type": "code",
   "execution_count": 7,
   "id": "ecdb76d7",
   "metadata": {},
   "outputs": [
    {
     "data": {
      "text/html": [
       "<div>\n",
       "<style scoped>\n",
       "    .dataframe tbody tr th:only-of-type {\n",
       "        vertical-align: middle;\n",
       "    }\n",
       "\n",
       "    .dataframe tbody tr th {\n",
       "        vertical-align: top;\n",
       "    }\n",
       "\n",
       "    .dataframe thead th {\n",
       "        text-align: right;\n",
       "    }\n",
       "</style>\n",
       "<table border=\"1\" class=\"dataframe\">\n",
       "  <thead>\n",
       "    <tr style=\"text-align: right;\">\n",
       "      <th></th>\n",
       "      <th>Channel_Name</th>\n",
       "      <th>Subscribers</th>\n",
       "      <th>Views</th>\n",
       "      <th>Total_videos</th>\n",
       "      <th>playlist_id</th>\n",
       "    </tr>\n",
       "  </thead>\n",
       "  <tbody>\n",
       "    <tr>\n",
       "      <th>0</th>\n",
       "      <td>MrBeast</td>\n",
       "      <td>1630</td>\n",
       "      <td>67304</td>\n",
       "      <td>3</td>\n",
       "      <td>UUgoFStVyEsm8tBZP5NC-aBQ</td>\n",
       "    </tr>\n",
       "    <tr>\n",
       "      <th>1</th>\n",
       "      <td>Beast Reacts</td>\n",
       "      <td>21600000</td>\n",
       "      <td>3291525450</td>\n",
       "      <td>232</td>\n",
       "      <td>UUUaT_39o1x6qWjz7K2pWcgw</td>\n",
       "    </tr>\n",
       "    <tr>\n",
       "      <th>2</th>\n",
       "      <td>MrBeast 2</td>\n",
       "      <td>18900000</td>\n",
       "      <td>2843129992</td>\n",
       "      <td>108</td>\n",
       "      <td>UU4-79UOlP48-QNGgCko5p2g</td>\n",
       "    </tr>\n",
       "    <tr>\n",
       "      <th>3</th>\n",
       "      <td>MrBeast Gaming</td>\n",
       "      <td>31100000</td>\n",
       "      <td>5474143393</td>\n",
       "      <td>138</td>\n",
       "      <td>UUIPPMRA040LQr5QPyJEbmXA</td>\n",
       "    </tr>\n",
       "    <tr>\n",
       "      <th>4</th>\n",
       "      <td>Beast Philanthropy</td>\n",
       "      <td>11700000</td>\n",
       "      <td>178056721</td>\n",
       "      <td>20</td>\n",
       "      <td>UUAiLfjNXkNv24uhpzUgPa6A</td>\n",
       "    </tr>\n",
       "  </tbody>\n",
       "</table>\n",
       "</div>"
      ],
      "text/plain": [
       "         Channel_Name Subscribers       Views Total_videos  \\\n",
       "0             MrBeast        1630       67304            3   \n",
       "1        Beast Reacts    21600000  3291525450          232   \n",
       "2           MrBeast 2    18900000  2843129992          108   \n",
       "3      MrBeast Gaming    31100000  5474143393          138   \n",
       "4  Beast Philanthropy    11700000   178056721           20   \n",
       "\n",
       "                playlist_id  \n",
       "0  UUgoFStVyEsm8tBZP5NC-aBQ  \n",
       "1  UUUaT_39o1x6qWjz7K2pWcgw  \n",
       "2  UU4-79UOlP48-QNGgCko5p2g  \n",
       "3  UUIPPMRA040LQr5QPyJEbmXA  \n",
       "4  UUAiLfjNXkNv24uhpzUgPa6A  "
      ]
     },
     "execution_count": 7,
     "metadata": {},
     "output_type": "execute_result"
    }
   ],
   "source": [
    "channel_data = pd.DataFrame(channel_statistics)\n",
    "# channel_data"
   ]
  },
  {
   "cell_type": "markdown",
   "id": "ffb00823",
   "metadata": {},
   "source": [
    "## Quick Visual Check of Channel Stats:"
   ]
  },
  {
   "cell_type": "code",
   "execution_count": 8,
   "id": "05123b23",
   "metadata": {},
   "outputs": [],
   "source": [
    "channel_data['Channel_Name']= channel_data['Channel_Name'].astype(str)\n",
    "channel_data['Subscribers']= channel_data['Subscribers'].astype('int64')\n",
    "channel_data['Views']= channel_data['Views'].astype('int64')\n",
    "channel_data['Total_videos']= channel_data['Total_videos'].astype('int64')"
   ]
  },
  {
   "cell_type": "code",
   "execution_count": 9,
   "id": "02184214",
   "metadata": {},
   "outputs": [
    {
     "data": {
      "text/plain": [
       "Channel_Name    object\n",
       "Subscribers      int64\n",
       "Views            int64\n",
       "Total_videos     int64\n",
       "playlist_id     object\n",
       "dtype: object"
      ]
     },
     "execution_count": 9,
     "metadata": {},
     "output_type": "execute_result"
    }
   ],
   "source": [
    "channel_data.sort_values(by='Subscribers', ascending=False, inplace=True)\n",
    "channel_data.dtypes"
   ]
  },
  {
   "cell_type": "code",
   "execution_count": 10,
   "id": "217aed41",
   "metadata": {},
   "outputs": [
    {
     "data": {
      "text/plain": [
       "Text(0.5, 0, 'Channel')"
      ]
     },
     "execution_count": 10,
     "metadata": {},
     "output_type": "execute_result"
    },
    {
     "data": {
      "image/png": "[encoded data removed]",
      "text/plain": [
       "<Figure size 1000x800 with 1 Axes>"
      ]
     },
     "metadata": {},
     "output_type": "display_data"
    }
   ],
   "source": [
    "sns.set(rc={'figure.figsize':(10,8)})\n",
    "channel_data.sort_values(by='Subscribers', ascending=False, inplace=False)\n",
    "ax = sns.barplot(x='Channel_Name', y='Subscribers', data=channel_data)\n",
    "ax.set_ylabel(\"Subscribers in Ten Millions\")\n",
    "ax.set_xlabel(\"Channel\")"
   ]
  },
  {
   "cell_type": "code",
   "execution_count": 11,
   "id": "077cfa62",
   "metadata": {},
   "outputs": [
    {
     "data": {
      "text/plain": [
       "Text(0.5, 0, 'Channel')"
      ]
     },
     "execution_count": 11,
     "metadata": {},
     "output_type": "execute_result"
    },
    {
     "data": {
      "image/png": "[encoded data removed]",
      "text/plain": [
       "<Figure size 1000x800 with 1 Axes>"
      ]
     },
     "metadata": {},
     "output_type": "display_data"
    }
   ],
   "source": [
    "ax = sns.barplot(x='Channel_Name', y='Views', data=channel_data)\n",
    "ax.set_ylabel(\"Views in Billions\")\n",
    "ax.set_xlabel(\"Channel\")"
   ]
  },
  {
   "cell_type": "code",
   "execution_count": 12,
   "id": "c0296ddf",
   "metadata": {},
   "outputs": [
    {
     "data": {
      "text/plain": [
       "Text(0.5, 0, 'Channel')"
      ]
     },
     "execution_count": 12,
     "metadata": {},
     "output_type": "execute_result"
    },
    {
     "data": {
      "image/png": "[encoded data removed]",
      "text/plain": [
       "<Figure size 1000x800 with 1 Axes>"
      ]
     },
     "metadata": {},
     "output_type": "display_data"
    }
   ],
   "source": [
    "sorted_data = channel_data.sort_values(by='Total_videos', ascending=False)\n",
    "ax = sns.barplot(x='Channel_Name', y='Total_videos', data=sorted_data, order=sorted_data['Channel_Name'])\n",
    "ax.set_ylabel(\"Video Count\")\n",
    "ax.set_xlabel(\"Channel\")"
   ]
  },
  {
   "cell_type": "code",
   "execution_count": 13,
   "id": "056b3500",
   "metadata": {},
   "outputs": [
    {
     "data": {
      "text/html": [
       "<div>\n",
       "<style scoped>\n",
       "    .dataframe tbody tr th:only-of-type {\n",
       "        vertical-align: middle;\n",
       "    }\n",
       "\n",
       "    .dataframe tbody tr th {\n",
       "        vertical-align: top;\n",
       "    }\n",
       "\n",
       "    .dataframe thead th {\n",
       "        text-align: right;\n",
       "    }\n",
       "</style>\n",
       "<table border=\"1\" class=\"dataframe\">\n",
       "  <thead>\n",
       "    <tr style=\"text-align: right;\">\n",
       "      <th></th>\n",
       "      <th>Channel_Name</th>\n",
       "      <th>Subscribers</th>\n",
       "      <th>Views</th>\n",
       "      <th>Total_videos</th>\n",
       "      <th>playlist_id</th>\n",
       "    </tr>\n",
       "  </thead>\n",
       "  <tbody>\n",
       "    <tr>\n",
       "      <th>3</th>\n",
       "      <td>MrBeast Gaming</td>\n",
       "      <td>31100000</td>\n",
       "      <td>5474143393</td>\n",
       "      <td>138</td>\n",
       "      <td>UUIPPMRA040LQr5QPyJEbmXA</td>\n",
       "    </tr>\n",
       "    <tr>\n",
       "      <th>1</th>\n",
       "      <td>Beast Reacts</td>\n",
       "      <td>21600000</td>\n",
       "      <td>3291525450</td>\n",
       "      <td>232</td>\n",
       "      <td>UUUaT_39o1x6qWjz7K2pWcgw</td>\n",
       "    </tr>\n",
       "    <tr>\n",
       "      <th>2</th>\n",
       "      <td>MrBeast 2</td>\n",
       "      <td>18900000</td>\n",
       "      <td>2843129992</td>\n",
       "      <td>108</td>\n",
       "      <td>UU4-79UOlP48-QNGgCko5p2g</td>\n",
       "    </tr>\n",
       "    <tr>\n",
       "      <th>4</th>\n",
       "      <td>Beast Philanthropy</td>\n",
       "      <td>11700000</td>\n",
       "      <td>178056721</td>\n",
       "      <td>20</td>\n",
       "      <td>UUAiLfjNXkNv24uhpzUgPa6A</td>\n",
       "    </tr>\n",
       "    <tr>\n",
       "      <th>0</th>\n",
       "      <td>MrBeast</td>\n",
       "      <td>1630</td>\n",
       "      <td>67304</td>\n",
       "      <td>3</td>\n",
       "      <td>UUgoFStVyEsm8tBZP5NC-aBQ</td>\n",
       "    </tr>\n",
       "  </tbody>\n",
       "</table>\n",
       "</div>"
      ],
      "text/plain": [
       "         Channel_Name  Subscribers       Views  Total_videos  \\\n",
       "3      MrBeast Gaming     31100000  5474143393           138   \n",
       "1        Beast Reacts     21600000  3291525450           232   \n",
       "2           MrBeast 2     18900000  2843129992           108   \n",
       "4  Beast Philanthropy     11700000   178056721            20   \n",
       "0             MrBeast         1630       67304             3   \n",
       "\n",
       "                playlist_id  \n",
       "3  UUIPPMRA040LQr5QPyJEbmXA  \n",
       "1  UUUaT_39o1x6qWjz7K2pWcgw  \n",
       "2  UU4-79UOlP48-QNGgCko5p2g  \n",
       "4  UUAiLfjNXkNv24uhpzUgPa6A  \n",
       "0  UUgoFStVyEsm8tBZP5NC-aBQ  "
      ]
     },
     "execution_count": 13,
     "metadata": {},
     "output_type": "execute_result"
    }
   ],
   "source": [
    "channel_data"
   ]
  },
  {
   "cell_type": "markdown",
   "id": "3d575c06",
   "metadata": {},
   "source": [
    "## Finding Video IDs:"
   ]
  },
  {
   "cell_type": "code",
   "execution_count": 14,
   "id": "4057142b",
   "metadata": {},
   "outputs": [],
   "source": [
    "playlist_id = channel_data.loc[channel_data['Channel_Name'] == 'MrBeast Gaming', 'playlist_id'].iloc[0]"
   ]
  },
  {
   "cell_type": "code",
   "execution_count": 15,
   "id": "d9aa8aa9",
   "metadata": {},
   "outputs": [
    {
     "data": {
      "text/plain": [
       "'UUIPPMRA040LQr5QPyJEbmXA'"
      ]
     },
     "execution_count": 15,
     "metadata": {},
     "output_type": "execute_result"
    }
   ],
   "source": [
    "playlist_id"
   ]
  },
  {
   "cell_type": "code",
   "execution_count": 16,
   "id": "9e047e66",
   "metadata": {},
   "outputs": [],
   "source": [
    "def get_video_ids(youtube, playlist_id):\n",
    "    video_ids = []\n",
    "    next_page_token = None\n",
    "    \n",
    "    while True:\n",
    "        request = youtube.playlistItems().list(\n",
    "            part = 'contentDetails',\n",
    "            playlistId = playlist_id,\n",
    "            maxResults = 50,\n",
    "            pageToken = next_page_token)       \n",
    "        response = request.execute()\n",
    "        \n",
    "        for item in response['items']:\n",
    "            video_ids.append(item['contentDetails']['videoId'])\n",
    "        \n",
    "        if 'nextPageToken' not in response:\n",
    "            break\n",
    "        else:\n",
    "            next_page_token = response['nextPageToken']\n",
    "    \n",
    "    return video_ids"
   ]
  },
  {
   "cell_type": "code",
   "execution_count": 17,
   "id": "01709e52",
   "metadata": {},
   "outputs": [],
   "source": [
    "video_ids_by_channel = {}\n",
    "for channel_name in channel_data['Channel_Name']:\n",
    "    playlist_id = channel_data.loc[channel_data['Channel_Name'] == channel_name, 'playlist_id'].iloc[0]\n",
    "    video_ids = get_video_ids(youtube, playlist_id)\n",
    "    video_ids_by_channel[channel_name] = video_ids"
   ]
  },
  {
   "cell_type": "code",
   "execution_count": 18,
   "id": "acbe88c1",
   "metadata": {},
   "outputs": [],
   "source": [
    "# video_ids_by_channel"
   ]
  },
  {
   "cell_type": "markdown",
   "id": "299d11b2",
   "metadata": {},
   "source": [
    "## Get Video Details:"
   ]
  },
  {
   "cell_type": "code",
   "execution_count": 19,
   "id": "cdb52f50",
   "metadata": {},
   "outputs": [],
   "source": [
    "def get_video_details(youtube, video_ids):\n",
    "    all_video_stats = []\n",
    "    \n",
    "    for video in video_ids:\n",
    "        request = youtube.videos().list(\n",
    "                    part='snippet, contentDetails, statistics',\n",
    "                    id=video)\n",
    "        response = request.execute()\n",
    "        \n",
    "        for video in response['items']:\n",
    "            video_stats = dict(Title = video['snippet']['title'],\n",
    "                               Published_date = video['snippet']['publishedAt'],\n",
    "                               Views = video['statistics']['viewCount'],\n",
    "                               Likes = video['statistics']['likeCount'],\n",
    "                               Comments = video['statistics']['commentCount'],\n",
    "                               CategoryId = video['snippet']['categoryId'],\n",
    "                               VideoId = video['id'],\n",
    "                               Channel = video['snippet']['channelTitle']\n",
    "                               )\n",
    "            all_video_stats.append(video_stats)\n",
    "    \n",
    "    return all_video_stats"
   ]
  },
  {
   "cell_type": "code",
   "execution_count": 20,
   "id": "8ea404d4",
   "metadata": {},
   "outputs": [],
   "source": [
    "all_video_stats_by_channel = []\n",
    "for channel_name in video_ids_by_channel.keys():\n",
    "    video_ids = video_ids_by_channel[channel_name]\n",
    "    all_video_stats = get_video_details(youtube, video_ids)\n",
    "    all_video_stats_by_channel.append(all_video_stats)"
   ]
  },
  {
   "cell_type": "code",
   "execution_count": 21,
   "id": "8b26abe3",
   "metadata": {},
   "outputs": [
    {
     "data": {
      "text/plain": [
       "233"
      ]
     },
     "execution_count": 21,
     "metadata": {},
     "output_type": "execute_result"
    }
   ],
   "source": [
    "#All videos are imported correctly\n",
    "len(all_video_stats_by_channel[1])"
   ]
  },
  {
   "cell_type": "markdown",
   "id": "139fadcd",
   "metadata": {},
   "source": [
    "## Make a DataFrame and Assign Column Names"
   ]
  },
  {
   "cell_type": "code",
   "execution_count": 22,
   "id": "63c9dae6",
   "metadata": {
    "scrolled": true
   },
   "outputs": [],
   "source": [
    "#Create data frame\n",
    "beastdata = pd.DataFrame(all_video_stats_by_channel)\n",
    "\n",
    "#Transform to reorganize rows and columns\n",
    "beastdata = beastdata.transpose()\n",
    "\n",
    "#Assign Channel names\n",
    "channel_names = ['MrBeast Gaming','Beast Reacts', 'MrBeast 2', 'Beast Philanthropy', 'MrBeast']\n",
    "beastdata.columns = channel_names"
   ]
  },
  {
   "cell_type": "code",
   "execution_count": 23,
   "id": "09c93aa3",
   "metadata": {},
   "outputs": [
    {
     "data": {
      "text/html": [
       "<div>\n",
       "<style scoped>\n",
       "    .dataframe tbody tr th:only-of-type {\n",
       "        vertical-align: middle;\n",
       "    }\n",
       "\n",
       "    .dataframe tbody tr th {\n",
       "        vertical-align: top;\n",
       "    }\n",
       "\n",
       "    .dataframe thead th {\n",
       "        text-align: right;\n",
       "    }\n",
       "</style>\n",
       "<table border=\"1\" class=\"dataframe\">\n",
       "  <thead>\n",
       "    <tr style=\"text-align: right;\">\n",
       "      <th></th>\n",
       "      <th>MrBeast Gaming</th>\n",
       "      <th>Beast Reacts</th>\n",
       "      <th>MrBeast 2</th>\n",
       "      <th>Beast Philanthropy</th>\n",
       "      <th>MrBeast</th>\n",
       "    </tr>\n",
       "  </thead>\n",
       "  <tbody>\n",
       "    <tr>\n",
       "      <th>0</th>\n",
       "      <td>{'Title': 'If You Build It, I'll Pay For It!',...</td>\n",
       "      <td>{'Title': '1 Tank vs 10 Cars!', 'Published_dat...</td>\n",
       "      <td>{'Title': '$100 to Skydive', 'Published_date':...</td>\n",
       "      <td>{'Title': 'We Saved an Orphanage', 'Published_...</td>\n",
       "      <td>{'Title': 'S.T.A.L.K.E.R. Clip', 'Published_da...</td>\n",
       "    </tr>\n",
       "    <tr>\n",
       "      <th>1</th>\n",
       "      <td>{'Title': 'World's Hardest Challenge!', 'Publi...</td>\n",
       "      <td>{'Title': 'Extremely Satisfying Workers!', 'Pu...</td>\n",
       "      <td>{'Title': 'I Met the Real MrBeast', 'Published...</td>\n",
       "      <td>{'Title': 'Rebuilding Homes for Tornado Surviv...</td>\n",
       "      <td>{'Title': 'Taru Christmas dance', 'Published_d...</td>\n",
       "    </tr>\n",
       "    <tr>\n",
       "      <th>2</th>\n",
       "      <td>{'Title': '100 Youtuber Minecraft Battle Royal...</td>\n",
       "      <td>{'Title': 'I Strapped A GoPro To A Fish!', 'Pu...</td>\n",
       "      <td>{'Title': 'Water Bottle Flip Challenge', 'Publ...</td>\n",
       "      <td>{'Title': 'We Flew Street Kids to the Soccer W...</td>\n",
       "      <td>{'Title': 'Taru Mortal Combat', 'Published_dat...</td>\n",
       "    </tr>\n",
       "    <tr>\n",
       "      <th>3</th>\n",
       "      <td>{'Title': 'Extreme $1,000,000 Challenge!', 'Pu...</td>\n",
       "      <td>{'Title': 'Most Viewed YouTube Video!', 'Publi...</td>\n",
       "      <td>{'Title': 'Will You Bring Me Back A Present Fr...</td>\n",
       "      <td>{'Title': 'We Did 10,000 Random Acts of Kindne...</td>\n",
       "      <td>None</td>\n",
       "    </tr>\n",
       "    <tr>\n",
       "      <th>4</th>\n",
       "      <td>{'Title': 'Minecraft with Ultra Realistic Grap...</td>\n",
       "      <td>{'Title': 'Impossible Moments Caught On Camera...</td>\n",
       "      <td>{'Title': '$10,000 Last Man Standing Challenge...</td>\n",
       "      <td>{'Title': 'Giving School Supplies To The Poore...</td>\n",
       "      <td>None</td>\n",
       "    </tr>\n",
       "    <tr>\n",
       "      <th>...</th>\n",
       "      <td>...</td>\n",
       "      <td>...</td>\n",
       "      <td>...</td>\n",
       "      <td>...</td>\n",
       "      <td>...</td>\n",
       "    </tr>\n",
       "    <tr>\n",
       "      <th>228</th>\n",
       "      <td>None</td>\n",
       "      <td>{'Title': 'Super unexpected DIY life hacks', '...</td>\n",
       "      <td>None</td>\n",
       "      <td>None</td>\n",
       "      <td>None</td>\n",
       "    </tr>\n",
       "    <tr>\n",
       "      <th>229</th>\n",
       "      <td>None</td>\n",
       "      <td>{'Title': 'Super Satisfying Kinetic Sand DIY',...</td>\n",
       "      <td>None</td>\n",
       "      <td>None</td>\n",
       "      <td>None</td>\n",
       "    </tr>\n",
       "    <tr>\n",
       "      <th>230</th>\n",
       "      <td>None</td>\n",
       "      <td>{'Title': 'Amazing Match bottle DIY Experiment...</td>\n",
       "      <td>None</td>\n",
       "      <td>None</td>\n",
       "      <td>None</td>\n",
       "    </tr>\n",
       "    <tr>\n",
       "      <th>231</th>\n",
       "      <td>None</td>\n",
       "      <td>{'Title': 'The Best Last Minute Halloween DIY ...</td>\n",
       "      <td>None</td>\n",
       "      <td>None</td>\n",
       "      <td>None</td>\n",
       "    </tr>\n",
       "    <tr>\n",
       "      <th>232</th>\n",
       "      <td>None</td>\n",
       "      <td>{'Title': 'The Best DIY Watermelon Life Hacks'...</td>\n",
       "      <td>None</td>\n",
       "      <td>None</td>\n",
       "      <td>None</td>\n",
       "    </tr>\n",
       "  </tbody>\n",
       "</table>\n",
       "<p>233 rows × 5 columns</p>\n",
       "</div>"
      ],
      "text/plain": [
       "                                        MrBeast Gaming  \\\n",
       "0    {'Title': 'If You Build It, I'll Pay For It!',...   \n",
       "1    {'Title': 'World's Hardest Challenge!', 'Publi...   \n",
       "2    {'Title': '100 Youtuber Minecraft Battle Royal...   \n",
       "3    {'Title': 'Extreme $1,000,000 Challenge!', 'Pu...   \n",
       "4    {'Title': 'Minecraft with Ultra Realistic Grap...   \n",
       "..                                                 ...   \n",
       "228                                               None   \n",
       "229                                               None   \n",
       "230                                               None   \n",
       "231                                               None   \n",
       "232                                               None   \n",
       "\n",
       "                                          Beast Reacts  \\\n",
       "0    {'Title': '1 Tank vs 10 Cars!', 'Published_dat...   \n",
       "1    {'Title': 'Extremely Satisfying Workers!', 'Pu...   \n",
       "2    {'Title': 'I Strapped A GoPro To A Fish!', 'Pu...   \n",
       "3    {'Title': 'Most Viewed YouTube Video!', 'Publi...   \n",
       "4    {'Title': 'Impossible Moments Caught On Camera...   \n",
       "..                                                 ...   \n",
       "228  {'Title': 'Super unexpected DIY life hacks', '...   \n",
       "229  {'Title': 'Super Satisfying Kinetic Sand DIY',...   \n",
       "230  {'Title': 'Amazing Match bottle DIY Experiment...   \n",
       "231  {'Title': 'The Best Last Minute Halloween DIY ...   \n",
       "232  {'Title': 'The Best DIY Watermelon Life Hacks'...   \n",
       "\n",
       "                                             MrBeast 2  \\\n",
       "0    {'Title': '$100 to Skydive', 'Published_date':...   \n",
       "1    {'Title': 'I Met the Real MrBeast', 'Published...   \n",
       "2    {'Title': 'Water Bottle Flip Challenge', 'Publ...   \n",
       "3    {'Title': 'Will You Bring Me Back A Present Fr...   \n",
       "4    {'Title': '$10,000 Last Man Standing Challenge...   \n",
       "..                                                 ...   \n",
       "228                                               None   \n",
       "229                                               None   \n",
       "230                                               None   \n",
       "231                                               None   \n",
       "232                                               None   \n",
       "\n",
       "                                    Beast Philanthropy  \\\n",
       "0    {'Title': 'We Saved an Orphanage', 'Published_...   \n",
       "1    {'Title': 'Rebuilding Homes for Tornado Surviv...   \n",
       "2    {'Title': 'We Flew Street Kids to the Soccer W...   \n",
       "3    {'Title': 'We Did 10,000 Random Acts of Kindne...   \n",
       "4    {'Title': 'Giving School Supplies To The Poore...   \n",
       "..                                                 ...   \n",
       "228                                               None   \n",
       "229                                               None   \n",
       "230                                               None   \n",
       "231                                               None   \n",
       "232                                               None   \n",
       "\n",
       "                                               MrBeast  \n",
       "0    {'Title': 'S.T.A.L.K.E.R. Clip', 'Published_da...  \n",
       "1    {'Title': 'Taru Christmas dance', 'Published_d...  \n",
       "2    {'Title': 'Taru Mortal Combat', 'Published_dat...  \n",
       "3                                                 None  \n",
       "4                                                 None  \n",
       "..                                                 ...  \n",
       "228                                               None  \n",
       "229                                               None  \n",
       "230                                               None  \n",
       "231                                               None  \n",
       "232                                               None  \n",
       "\n",
       "[233 rows x 5 columns]"
      ]
     },
     "execution_count": 23,
     "metadata": {},
     "output_type": "execute_result"
    }
   ],
   "source": [
    "# beastdata"
   ]
  },
  {
   "cell_type": "code",
   "execution_count": 24,
   "id": "a379cfe9",
   "metadata": {},
   "outputs": [],
   "source": [
    "#Export Data to CSV\n",
    "# beastdata.to_csv('Beast Data.csv')"
   ]
  },
  {
   "cell_type": "code",
   "execution_count": 25,
   "id": "088f6350",
   "metadata": {},
   "outputs": [],
   "source": [
    "# # extract the data of a channel\n",
    "# data = beastdata['MrBeast Gaming']\n",
    "\n",
    "# # create a new dataframe from the data\n",
    "# beastGaming = pd.DataFrame(data)\n",
    "\n",
    "# # transpose the dataframe\n",
    "# beastGaming = beastGaming.transpose()\n",
    "\n",
    "# # # rename the columns\n",
    "# # beastGaming.columns = beastGaming[0]\n",
    "# # beastGaming = beastGaming[1:]\n",
    "\n",
    "# # reset the index\n",
    "# beastGaming.reset_index(drop=True, inplace=True)\n",
    "\n",
    "# # # add the channel name as a new column\n",
    "# # df['Channel'] = 'MrBeast Gaming'\n",
    "\n",
    "\n",
    "\n",
    "# beastGaming"
   ]
  },
  {
   "cell_type": "code",
   "execution_count": 26,
   "id": "66669709",
   "metadata": {},
   "outputs": [],
   "source": [
    "# video_data['Published_date'] = pd.to_datetime(video_data['Published_date']).dt.date\n",
    "# video_data['Views'] = pd.to_numeric(video_data['Views'])\n",
    "# video_data['Likes'] = pd.to_numeric(video_data['Likes'])\n",
    "# video_data['Dislikes'] = pd.to_numeric(video_data['Dislikes'])\n",
    "# video_data['Views'] = pd.to_numeric(video_data['Views'])\n",
    "# video_data"
   ]
  },
  {
   "cell_type": "code",
   "execution_count": 27,
   "id": "db51f235",
   "metadata": {},
   "outputs": [],
   "source": [
    "# value = df.at[row, column]\n",
    "# value = df.iat[row, column]\n",
    "# sliced_df = df.loc[start_row:end_row, start_column:end_column]\n",
    "# selected_rows = df[df['column_name'] == value]"
   ]
  },
  {
   "cell_type": "code",
   "execution_count": 28,
   "id": "abe4b3a0",
   "metadata": {},
   "outputs": [],
   "source": [
    "# selected_rows = beastdata[beastdata['column_name'] == value]"
   ]
  },
  {
   "cell_type": "code",
   "execution_count": null,
   "id": "ea5dd96d",
   "metadata": {},
   "outputs": [],
   "source": [
    "\n"
   ]
  },
  {
   "cell_type": "code",
   "execution_count": null,
   "id": "3c79df08",
   "metadata": {},
   "outputs": [],
   "source": []
  }
 ],
 "metadata": {
  "kernelspec": {
   "display_name": "Python 3 (ipykernel)",
   "language": "python",
   "name": "python3"
  },
  "language_info": {
   "codemirror_mode": {
    "name": "ipython",
    "version": 3
   },
   "file_extension": ".py",
   "mimetype": "text/x-python",
   "name": "python",
   "nbconvert_exporter": "python",
   "pygments_lexer": "ipython3",
   "version": "3.9.13"
  }
 },
 "nbformat": 4,
 "nbformat_minor": 5
}
